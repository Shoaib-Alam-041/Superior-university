{
 "cells": [
  {
   "cell_type": "code",
   "execution_count": 7,
   "id": "aca64fc1",
   "metadata": {},
   "outputs": [
    {
     "name": "stdout",
     "output_type": "stream",
     "text": [
      "1\n",
      "2\n",
      "fizz\n",
      "4\n",
      "buzz\n",
      "fizz\n",
      "7\n",
      "8\n",
      "fizz\n",
      "buzz\n",
      "11\n",
      "fizz\n",
      "13\n",
      "14\n",
      "Fizzbuzz\n",
      "16\n",
      "17\n",
      "fizz\n",
      "19\n",
      "buzz\n"
     ]
    }
   ],
   "source": [
    "class fizzbuzz:\n",
    "    def __init__(self,player):\n",
    "        self.player=player\n",
    "        \n",
    "    def game(self):\n",
    "        for x in range(1,self.player+1):\n",
    "            if x%3==0 and x%5==0:\n",
    "                print(\"Fizzbuzz\")\n",
    "            elif x%3==0:\n",
    "                print(\"fizz\")\n",
    "            elif x%5==0:\n",
    "                print(\"buzz\")\n",
    "            else:\n",
    "                print(x)\n",
    "obj=fizzbuzz(20)\n",
    "obj.game()\n",
    "            \n",
    "        \n",
    "        \n",
    "    "
   ]
  },
  {
   "cell_type": "code",
   "execution_count": 1,
   "id": "68027529",
   "metadata": {},
   "outputs": [],
   "source": [
    "movies = [\n",
    "    (\"Eternal Sunshine of the Spotless Mind\", 20000000),\n",
    "    (\"Memento\", 9000000),\n",
    "    (\"Requiem for a Dream\", 4500000),\n",
    "    (\"Pirates of the Caribbean: On Stranger Tides\", 379000000),\n",
    "    (\"Avengers: Age of Ultron\", 365000000),\n",
    "    (\"Avengers: Endgame\", 356000000),\n",
    "    (\"Incredibles 2\", 200000000)\n",
    "]\n"
   ]
  },
  {
   "cell_type": "code",
   "execution_count": 8,
   "id": "47e63932",
   "metadata": {},
   "outputs": [],
   "source": [
    "#calculate the average budget\n",
    "#print movies name wich budget is higher than average\n",
    "#How many movies spent\n",
    "#allow user to add more in front"
   ]
  },
  {
   "cell_type": "code",
   "execution_count": 2,
   "id": "79c8aa00",
   "metadata": {},
   "outputs": [
    {
     "name": "stdout",
     "output_type": "stream",
     "text": [
      "how many movies do you want to add: 1\n",
      "enter movies name: carry and jatta\n",
      "enter your movie budget: 20000000\n",
      "Pirates of the Caribbean: On Stranger Tides\n",
      "Avengers: Age of Ultron\n",
      "Avengers: Endgame\n",
      "Incredibles 2\n",
      "number of movies 4\n"
     ]
    }
   ],
   "source": [
    "movies = [\n",
    "    (\"Eternal Sunshine of the Spotless Mind\", 20000000),\n",
    "    (\"Memento\", 9000000),\n",
    "    (\"Requiem for a Dream\", 4500000),\n",
    "    (\"Pirates of the Caribbean: On Stranger Tides\", 379000000),\n",
    "    (\"Avengers: Age of Ultron\", 365000000),\n",
    "    (\"Avengers: Endgame\", 356000000),\n",
    "    (\"Incredibles 2\", 200000000)\n",
    "]\n",
    "#when we want to add something in tuple we should convert tuple into list and we cannot add tuple into list directly.\n",
    "movies_list=list(movies)\n",
    "number = int(input(\"how many movies do you want to add: \"))\n",
    "for i in range(number):\n",
    "    movie_name=input(\"enter movies name: \")\n",
    "    budget=int(input(\"enter your movie budget: \"))\n",
    "    total=(movie_name,budget)\n",
    "    movies_list.append(total)\n",
    "movies=tuple(movies_list)\n",
    "\n",
    "#Aversage budget of movies\n",
    "\n",
    "total_budget=0\n",
    "\n",
    "for budget in movies:\n",
    "    #[1] acces the 2nd element of each tuple\n",
    "    total_budget += budget[1]\n",
    "\n",
    "average = total_budget/len(movies)\n",
    "\n",
    "#print movies name which budget is higher than average\n",
    "high_budget=[]\n",
    "for item in movies:\n",
    "    if item[1]>average:\n",
    "        print(item[0])\n",
    "        high_budget.append(item)\n",
    "#how many movies that have high budget\n",
    "print(f\"number of movies {len(high_budget)}\")\n",
    "\n"
   ]
  },
  {
   "cell_type": "code",
   "execution_count": null,
   "id": "3a885e8f",
   "metadata": {},
   "outputs": [],
   "source": []
  }
 ],
 "metadata": {
  "kernelspec": {
   "display_name": "Python 3 (ipykernel)",
   "language": "python",
   "name": "python3"
  },
  "language_info": {
   "codemirror_mode": {
    "name": "ipython",
    "version": 3
   },
   "file_extension": ".py",
   "mimetype": "text/x-python",
   "name": "python",
   "nbconvert_exporter": "python",
   "pygments_lexer": "ipython3",
   "version": "3.11.5"
  }
 },
 "nbformat": 4,
 "nbformat_minor": 5
}
