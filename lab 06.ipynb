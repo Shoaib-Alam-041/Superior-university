{
 "cells": [
  {
   "cell_type": "markdown",
   "id": "1306a53b-abab-41ea-bab5-bf23353228fe",
   "metadata": {},
   "source": [
    "# Task 01"
   ]
  },
  {
   "cell_type": "code",
   "execution_count": 2,
   "id": "36ee94e0-9b14-4998-a3a1-baf23e408d1d",
   "metadata": {},
   "outputs": [
    {
     "name": "stdout",
     "output_type": "stream",
     "text": [
      "BFS Traversal: ['A', 'B', 'E', 'F', 'C', 'G', 'D']\n"
     ]
    }
   ],
   "source": [
    "def bfs_recursive(graph, start, visited=None, result=None):\n",
    "    if visited is None:\n",
    "        visited = set()\n",
    "    if result is None:\n",
    "        result = []\n",
    "    visited.add(start)\n",
    "    result.append(start)\n",
    "    for neighbor in graph[start]:\n",
    "        if neighbor not in visited:\n",
    "            bfs_recursive(graph, neighbor, visited, result)\n",
    "    return result\n",
    "graph = {'A': ['B', 'C', 'D'],\n",
    "    'B': ['A', 'E', 'F'],\n",
    "    'C': ['A', 'G'],\n",
    "    'D': ['A'],\n",
    "    'E': ['B'],\n",
    "    'F': ['B'],\n",
    "    'G': ['C']}\n",
    "start = 'A'\n",
    "print(\"BFS Traversal:\", bfs_recursive(graph, start))\n"
   ]
  },
  {
   "cell_type": "code",
   "execution_count": 3,
   "id": "ce310d9c-0245-494f-8b43-f88d06617d5c",
   "metadata": {},
   "outputs": [
    {
     "name": "stdout",
     "output_type": "stream",
     "text": [
      "BFS Traversal: ['A', 'B', 'C', 'D', 'E', 'F', 'G']\n"
     ]
    }
   ],
   "source": [
    "class Node:\n",
    "    def __init__(self, value):\n",
    "        self.value = value\n",
    "        self.neighbors = []\n",
    "def bfs_with_queue(start_node):\n",
    "    visited = set()\n",
    "    queue = []\n",
    "    result = []\n",
    "    queue.append(start_node)\n",
    "    visited.add(start_node.value)\n",
    "    while queue:\n",
    "        current_node = queue.pop(0)\n",
    "        result.append(current_node.value)\n",
    "        for neighbor in current_node.neighbors:\n",
    "            if neighbor.value not in visited:\n",
    "                visited.add(neighbor.value)\n",
    "                queue.append(neighbor)\n",
    "    return result\n",
    "\n",
    "# node creationing\n",
    "A = Node('A')\n",
    "B = Node('B')\n",
    "C = Node('C')\n",
    "D = Node('D')\n",
    "E = Node('E')\n",
    "F = Node('F')\n",
    "G = Node('G')\n",
    "# node connecting\n",
    "A.neighbors = [B, C, D]\n",
    "B.neighbors = [A, E, F]\n",
    "C.neighbors = [A, G]\n",
    "D.neighbors = [A]\n",
    "E.neighbors = [B]\n",
    "F.neighbors = [B]\n",
    "G.neighbors = [C]\n",
    "print(\"BFS Traversal:\", bfs_with_queue(A))\n"
   ]
  },
  {
   "cell_type": "code",
   "execution_count": null,
   "id": "e8b57b2f-ad5a-4191-8037-7233a77cb285",
   "metadata": {},
   "outputs": [],
   "source": []
  }
 ],
 "metadata": {
  "kernelspec": {
   "display_name": "Python 3 (ipykernel)",
   "language": "python",
   "name": "python3"
  },
  "language_info": {
   "codemirror_mode": {
    "name": "ipython",
    "version": 3
   },
   "file_extension": ".py",
   "mimetype": "text/x-python",
   "name": "python",
   "nbconvert_exporter": "python",
   "pygments_lexer": "ipython3",
   "version": "3.12.4"
  }
 },
 "nbformat": 4,
 "nbformat_minor": 5
}
