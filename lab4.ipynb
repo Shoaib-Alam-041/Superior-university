{
 "cells": [
  {
   "cell_type": "markdown",
   "id": "1674dfe9",
   "metadata": {},
   "source": [
    "# task 1.0"
   ]
  },
  {
   "cell_type": "code",
   "execution_count": null,
   "id": "77e2ca20",
   "metadata": {},
   "outputs": [],
   "source": [
    "def luhn_algorithm(card_num):\n",
    "    digits = []\n",
    "    for digit in card_num:\n",
    "        digits.append(int(digit))\n",
    "\n",
    "    reverse_digits = digits[::-1]\n",
    "    \n",
    "    checksum = 0\n",
    "\n",
    "    for i in range(len(reverse_digits)):\n",
    "        digit = reverse_digits[i]\n",
    "\n",
    "        if i % 2 == 1:\n",
    "            digit = digit * 2\n",
    "            if digit > 9:\n",
    "                digit = digit - 9\n",
    "\n",
    "        checksum = checksum + digit\n",
    "\n",
    "    if checksum % 10 == 0:\n",
    "        return True\n",
    "    else:\n",
    "        return False\n",
    "\n",
    "card_num = input(\"Enter the card number: \")\n",
    "if luhn_algorithm(card_num):\n",
    "    print(\"Valid card number\")\n",
    "else:\n",
    "    print(\"Invalid card number\")\n"
   ]
  },
  {
   "cell_type": "markdown",
   "id": "94a68159",
   "metadata": {},
   "source": [
    "# task 2.0"
   ]
  },
  {
   "cell_type": "code",
   "execution_count": null,
   "id": "5a29d4ef",
   "metadata": {},
   "outputs": [],
   "source": [
    "def remove_punctuation(input_string):\n",
    "    punctuation = '''!()-[]{};:'\"\\,<>./?@#$%^&*_~'''\n",
    "    no_punct = \"\"\n",
    "    for char in input_string:\n",
    "        if char not in punctuation:\n",
    "            no_punct += char\n",
    "    return no_punct\n",
    "\n",
    "user_input = input(\"Enter a string: \")\n",
    "cleaned_string = remove_punctuation(user_input)\n",
    "print(\"String without punctuation:\", cleaned_string)\n"
   ]
  },
  {
   "cell_type": "markdown",
   "id": "c2966ffc",
   "metadata": {},
   "source": [
    "# task 3.0"
   ]
  },
  {
   "cell_type": "code",
   "execution_count": null,
   "id": "389cd5ce",
   "metadata": {},
   "outputs": [],
   "source": [
    "def sort_alphabetically(word):\n",
    "    word_list = list(word)\n",
    "    \n",
    "    for i in range(len(word_list)):\n",
    "        for j in range(len(word_list) - 1):\n",
    "            if word_list[j] > word_list[j + 1]:\n",
    "                word_list[j], word_list[j + 1] = word_list[j + 1], word_list[j]\n",
    "    \n",
    "    return ''.join(word_list)\n",
    "word = input(\"Enter a word: \")\n",
    "sorted_word = sort_alphabetically(word)\n",
    "print(\"Word sorted alphabetically:\", sorted_word)\n"
   ]
  }
 ],
 "metadata": {
  "kernelspec": {
   "display_name": "Python 3 (ipykernel)",
   "language": "python",
   "name": "python3"
  },
  "language_info": {
   "codemirror_mode": {
    "name": "ipython",
    "version": 3
   },
   "file_extension": ".py",
   "mimetype": "text/x-python",
   "name": "python",
   "nbconvert_exporter": "python",
   "pygments_lexer": "ipython3",
   "version": "3.11.5"
  }
 },
 "nbformat": 4,
 "nbformat_minor": 5
}
