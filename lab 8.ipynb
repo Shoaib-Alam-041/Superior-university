{
 "cells": [
  {
   "cell_type": "markdown",
   "id": "3729ccab-dabf-4127-a5d4-a214932613bf",
   "metadata": {},
   "source": [
    "Mini-max algorithm lab 8"
   ]
  },
  {
   "cell_type": "code",
   "execution_count": null,
   "id": "305ed81e-7f2c-4765-b433-db157e4c18af",
   "metadata": {},
   "outputs": [],
   "source": [
    "def minimax(depth, node_index, maximizing_player, values, alpha, beta, max_depth):\n",
    "    if depth == max_depth:\n",
    "        return values[node_index]\n",
    "    if maximizing_player:\n",
    "        best = float('-inf')\n",
    "        for i in range(2):\n",
    "            val = minimax(depth + 1, node_index * 2 + i, False, values, alpha, beta, max_depth)\n",
    "            best = max(best, val)\n",
    "            alpha = max(alpha, best)\n",
    "            if beta <= alpha:\n",
    "                break\n",
    "        return best\n",
    "    else:\n",
    "        best = float('inf')\n",
    "        for i in range(2):\n",
    "            val = minimax(depth + 1, node_index * 2 + i, True, values, alpha, beta, max_depth)\n",
    "            best = min(best, val)\n",
    "            beta = min(beta, best)\n",
    "            if beta <= alpha:\n",
    "                break\n",
    "        return best\n",
    "\n",
    "values = [3, 5, 6, 9, 1, 2, 0, -1]\n",
    "max_depth = 3\n",
    "result = minimax(0, 0, True, values, float('-inf'), float('inf'), max_depth)\n",
    "print(result)"
   ]
  }
 ],
 "metadata": {
  "kernelspec": {
   "display_name": "Python 3 (ipykernel)",
   "language": "python",
   "name": "python3"
  },
  "language_info": {
   "codemirror_mode": {
    "name": "ipython",
    "version": 3
   },
   "file_extension": ".py",
   "mimetype": "text/x-python",
   "name": "python",
   "nbconvert_exporter": "python",
   "pygments_lexer": "ipython3",
   "version": "3.12.4"
  }
 },
 "nbformat": 4,
 "nbformat_minor": 5
}
